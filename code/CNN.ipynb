{
 "cells": [
  {
   "cell_type": "code",
   "execution_count": 1,
   "metadata": {},
   "outputs": [
    {
     "name": "stderr",
     "output_type": "stream",
     "text": [
      "D:\\anaconda\\envs\\PythonGPU\\lib\\site-packages\\gensim\\similarities\\__init__.py:15: UserWarning: The gensim.similarities.levenshtein submodule is disabled, because the optional Levenshtein package <https://pypi.org/project/python-Levenshtein/> is unavailable. Install Levenhstein (e.g. `pip install python-Levenshtein`) to suppress this warning.\n",
      "  warnings.warn(msg)\n"
     ]
    },
    {
     "data": {
      "text/html": [
       "<style>.container { width:95% !important; }</style>"
      ],
      "text/plain": [
       "<IPython.core.display.HTML object>"
      ]
     },
     "metadata": {},
     "output_type": "display_data"
    }
   ],
   "source": [
    "import pandas as pd\n",
    "import numpy as np \n",
    "# import stopwordsiso\n",
    "# import jieba\n",
    "# from stopwordsiso import stopwords\n",
    "import matplotlib.pyplot as plt\n",
    "import keras\n",
    "import gensim\n",
    "from gensim.models import KeyedVectors\n",
    "from gensim.models import Word2Vec\n",
    "\n",
    "from sklearn.utils import shuffle\n",
    "from sklearn.model_selection import train_test_split\n",
    "'''Display'''\n",
    "from IPython.core.display import display, HTML\n",
    "display(HTML(\"<style>.container { width:95% !important; }</style>\"))\n",
    "import warnings\n",
    "warnings.filterwarnings('ignore')\n",
    "pd.options.display.float_format = '{:,.2f}'.format\n",
    "pd.set_option('display.max_columns', None)\n",
    "pd.set_option('display.max_rows', None)"
   ]
  },
  {
   "cell_type": "code",
   "execution_count": 3,
   "metadata": {},
   "outputs": [],
   "source": [
    "train = pd.read_csv('D:/MyDownloads/df_train.csv')"
   ]
  },
  {
   "cell_type": "code",
   "execution_count": 4,
   "metadata": {},
   "outputs": [
    {
     "data": {
      "text/html": [
       "<div>\n",
       "<style scoped>\n",
       "    .dataframe tbody tr th:only-of-type {\n",
       "        vertical-align: middle;\n",
       "    }\n",
       "\n",
       "    .dataframe tbody tr th {\n",
       "        vertical-align: top;\n",
       "    }\n",
       "\n",
       "    .dataframe thead th {\n",
       "        text-align: right;\n",
       "    }\n",
       "</style>\n",
       "<table border=\"1\" class=\"dataframe\">\n",
       "  <thead>\n",
       "    <tr style=\"text-align: right;\">\n",
       "      <th></th>\n",
       "      <th>tweets</th>\n",
       "      <th>label</th>\n",
       "      <th>tweets_flat</th>\n",
       "      <th>tweets_chinese</th>\n",
       "      <th>tweets_cut</th>\n",
       "      <th>tweets_clean</th>\n",
       "      <th>n</th>\n",
       "      <th>f</th>\n",
       "      <th>s</th>\n",
       "      <th>t</th>\n",
       "      <th>nr</th>\n",
       "      <th>ns</th>\n",
       "      <th>nt</th>\n",
       "      <th>nw</th>\n",
       "      <th>nz</th>\n",
       "      <th>v</th>\n",
       "      <th>vd</th>\n",
       "      <th>vn</th>\n",
       "      <th>a</th>\n",
       "      <th>ad</th>\n",
       "      <th>an</th>\n",
       "      <th>d</th>\n",
       "      <th>m</th>\n",
       "      <th>q</th>\n",
       "      <th>r</th>\n",
       "      <th>p</th>\n",
       "      <th>c</th>\n",
       "      <th>u</th>\n",
       "      <th>xc</th>\n",
       "      <th>w</th>\n",
       "      <th>PER</th>\n",
       "      <th>LOC</th>\n",
       "      <th>ORG</th>\n",
       "      <th>TIME</th>\n",
       "      <th>O</th>\n",
       "      <th>n_pos</th>\n",
       "      <th>n_neg</th>\n",
       "      <th>word_count</th>\n",
       "    </tr>\n",
       "  </thead>\n",
       "  <tbody>\n",
       "    <tr>\n",
       "      <th>0</th>\n",
       "      <td>[{'tweet_content': '请多多注意防护预防感染常戴口罩', 'posting...</td>\n",
       "      <td>0</td>\n",
       "      <td>请多多注意防护预防感染常戴口罩 走在乡间的小路上乡村风景美如画 空运的螃蟹到了快来领取啊 何...</td>\n",
       "      <td>请多多注意防护预防感染常戴口罩 走在乡间的小路上乡村风景美如画 空运的螃蟹到了快来领取啊 何...</td>\n",
       "      <td>请 多多 注意 防护 预防 感染 常 戴口罩   走 在 乡间 的 小路 上 乡村 风景 美...</td>\n",
       "      <td>多多 注意 防护 预防 感染 常 戴口罩   走 乡间 小路 乡村 风景 美如画 空运 螃蟹...</td>\n",
       "      <td>0.20</td>\n",
       "      <td>0.02</td>\n",
       "      <td>0.01</td>\n",
       "      <td>0.01</td>\n",
       "      <td>0.02</td>\n",
       "      <td>0.00</td>\n",
       "      <td>0.00</td>\n",
       "      <td>0.00</td>\n",
       "      <td>0.02</td>\n",
       "      <td>0.27</td>\n",
       "      <td>0.00</td>\n",
       "      <td>0.02</td>\n",
       "      <td>0.06</td>\n",
       "      <td>0.00</td>\n",
       "      <td>0.00</td>\n",
       "      <td>0.07</td>\n",
       "      <td>0.03</td>\n",
       "      <td>0.00</td>\n",
       "      <td>0.10</td>\n",
       "      <td>0.04</td>\n",
       "      <td>0.03</td>\n",
       "      <td>0.12</td>\n",
       "      <td>0.01</td>\n",
       "      <td>0.00</td>\n",
       "      <td>0.01</td>\n",
       "      <td>0.04</td>\n",
       "      <td>0.00</td>\n",
       "      <td>0.00</td>\n",
       "      <td>0.00</td>\n",
       "      <td>0.11</td>\n",
       "      <td>0.38</td>\n",
       "      <td>2878</td>\n",
       "    </tr>\n",
       "    <tr>\n",
       "      <th>1</th>\n",
       "      <td>[{'tweet_content': '你敢不敢让我中个小恐龙', 'posting_tim...</td>\n",
       "      <td>0</td>\n",
       "      <td>你敢不敢让我中个小恐龙 周年庆邀你盛装出席 5月1日5月8日参与周年庆活动分享你的周年庆时装...</td>\n",
       "      <td>你敢不敢让我中个小恐龙 周年庆邀你盛装出席  月 日 月 日参与周年庆活动分享你的周年庆时装...</td>\n",
       "      <td>你 敢不敢 让 我 中 个 小 恐龙   周年庆 邀 你 盛装 出席   月 日 月 日 参...</td>\n",
       "      <td>敢不敢 恐龙   周年庆 邀 盛装 出席   参与 周年庆 活动 分享 周年庆 时装 穿 搭...</td>\n",
       "      <td>0.19</td>\n",
       "      <td>0.01</td>\n",
       "      <td>0.00</td>\n",
       "      <td>0.00</td>\n",
       "      <td>0.03</td>\n",
       "      <td>0.00</td>\n",
       "      <td>0.00</td>\n",
       "      <td>0.00</td>\n",
       "      <td>0.01</td>\n",
       "      <td>0.33</td>\n",
       "      <td>0.00</td>\n",
       "      <td>0.01</td>\n",
       "      <td>0.06</td>\n",
       "      <td>0.01</td>\n",
       "      <td>0.00</td>\n",
       "      <td>0.10</td>\n",
       "      <td>0.02</td>\n",
       "      <td>0.01</td>\n",
       "      <td>0.11</td>\n",
       "      <td>0.03</td>\n",
       "      <td>0.02</td>\n",
       "      <td>0.09</td>\n",
       "      <td>0.04</td>\n",
       "      <td>0.00</td>\n",
       "      <td>0.00</td>\n",
       "      <td>0.00</td>\n",
       "      <td>0.00</td>\n",
       "      <td>0.02</td>\n",
       "      <td>0.00</td>\n",
       "      <td>0.08</td>\n",
       "      <td>0.36</td>\n",
       "      <td>1957</td>\n",
       "    </tr>\n",
       "    <tr>\n",
       "      <th>2</th>\n",
       "      <td>[{'tweet_content': '滴 613打卡成功 天气好的一天 看见小泽自拍 心情...</td>\n",
       "      <td>0</td>\n",
       "      <td>滴 613打卡成功 天气好的一天 看见小泽自拍 心情更加好 以后多发呗 早上好呀天泽 天气好...</td>\n",
       "      <td>滴    打卡成功 天气好的一天 看见小泽自拍 心情更加好 以后多发呗 早上好呀天泽 天气好...</td>\n",
       "      <td>滴     打卡 成功   天气 好 的 一天   看见 小泽 自拍   心情 更加 好  ...</td>\n",
       "      <td>滴     打卡 成功   天气 一天   看见 小泽 自拍   心情 更加  以后 多发 ...</td>\n",
       "      <td>0.21</td>\n",
       "      <td>0.03</td>\n",
       "      <td>0.00</td>\n",
       "      <td>0.00</td>\n",
       "      <td>0.04</td>\n",
       "      <td>0.00</td>\n",
       "      <td>0.00</td>\n",
       "      <td>0.00</td>\n",
       "      <td>0.00</td>\n",
       "      <td>0.30</td>\n",
       "      <td>0.00</td>\n",
       "      <td>0.00</td>\n",
       "      <td>0.10</td>\n",
       "      <td>0.01</td>\n",
       "      <td>0.00</td>\n",
       "      <td>0.06</td>\n",
       "      <td>0.01</td>\n",
       "      <td>0.00</td>\n",
       "      <td>0.03</td>\n",
       "      <td>0.01</td>\n",
       "      <td>0.01</td>\n",
       "      <td>0.08</td>\n",
       "      <td>0.07</td>\n",
       "      <td>0.00</td>\n",
       "      <td>0.03</td>\n",
       "      <td>0.00</td>\n",
       "      <td>0.00</td>\n",
       "      <td>0.07</td>\n",
       "      <td>0.00</td>\n",
       "      <td>0.14</td>\n",
       "      <td>0.32</td>\n",
       "      <td>384</td>\n",
       "    </tr>\n",
       "    <tr>\n",
       "      <th>3</th>\n",
       "      <td>[{'tweet_content': '有没有人跟我一样的卡了我2天52个精英令用都用不鸟这...</td>\n",
       "      <td>0</td>\n",
       "      <td>有没有人跟我一样的卡了我2天52个精英令用都用不鸟这波过去不卸载我是 我在打卡啦每日签到领红...</td>\n",
       "      <td>有没有人跟我一样的卡了我 天  个精英令用都用不鸟这波过去不卸载我是 我在打卡啦每日签到领红...</td>\n",
       "      <td>有没有 人 跟 我 一样 的 卡 了 我  天   个 精英令 用 都 用 不 鸟 这 波 ...</td>\n",
       "      <td>有没有 卡  天   精英令 鸟 波 过去 卸载   打卡 每日 签到 领 红包 签到 越多...</td>\n",
       "      <td>0.21</td>\n",
       "      <td>0.00</td>\n",
       "      <td>0.01</td>\n",
       "      <td>0.00</td>\n",
       "      <td>0.02</td>\n",
       "      <td>0.00</td>\n",
       "      <td>0.00</td>\n",
       "      <td>0.00</td>\n",
       "      <td>0.01</td>\n",
       "      <td>0.32</td>\n",
       "      <td>0.00</td>\n",
       "      <td>0.02</td>\n",
       "      <td>0.06</td>\n",
       "      <td>0.01</td>\n",
       "      <td>0.01</td>\n",
       "      <td>0.08</td>\n",
       "      <td>0.02</td>\n",
       "      <td>0.01</td>\n",
       "      <td>0.10</td>\n",
       "      <td>0.04</td>\n",
       "      <td>0.01</td>\n",
       "      <td>0.10</td>\n",
       "      <td>0.04</td>\n",
       "      <td>0.00</td>\n",
       "      <td>0.01</td>\n",
       "      <td>0.00</td>\n",
       "      <td>0.00</td>\n",
       "      <td>0.01</td>\n",
       "      <td>0.00</td>\n",
       "      <td>0.11</td>\n",
       "      <td>0.35</td>\n",
       "      <td>1402</td>\n",
       "    </tr>\n",
       "    <tr>\n",
       "      <th>4</th>\n",
       "      <td>[{'tweet_content': '婚姻不分年龄希望决定结婚之前能够想清楚对方是你想要相...</td>\n",
       "      <td>0</td>\n",
       "      <td>婚姻不分年龄希望决定结婚之前能够想清楚对方是你想要相伴一生的人而且不管前路好坏面对诱惑时你还...</td>\n",
       "      <td>婚姻不分年龄希望决定结婚之前能够想清楚对方是你想要相伴一生的人而且不管前路好坏面对诱惑时你还...</td>\n",
       "      <td>婚姻 不分 年龄 希望 决定 结婚之前 能够 想清楚 对方 是 你 想要 相伴 一生 的 人...</td>\n",
       "      <td>婚姻 不分 年龄 希望 决定 结婚之前 能够 想清楚 想要 相伴 一生 前路 好坏 面对 诱...</td>\n",
       "      <td>0.17</td>\n",
       "      <td>0.01</td>\n",
       "      <td>0.00</td>\n",
       "      <td>0.01</td>\n",
       "      <td>0.01</td>\n",
       "      <td>0.00</td>\n",
       "      <td>0.00</td>\n",
       "      <td>0.00</td>\n",
       "      <td>0.00</td>\n",
       "      <td>0.31</td>\n",
       "      <td>0.00</td>\n",
       "      <td>0.02</td>\n",
       "      <td>0.06</td>\n",
       "      <td>0.01</td>\n",
       "      <td>0.01</td>\n",
       "      <td>0.11</td>\n",
       "      <td>0.02</td>\n",
       "      <td>0.00</td>\n",
       "      <td>0.11</td>\n",
       "      <td>0.03</td>\n",
       "      <td>0.03</td>\n",
       "      <td>0.09</td>\n",
       "      <td>0.01</td>\n",
       "      <td>0.00</td>\n",
       "      <td>0.01</td>\n",
       "      <td>0.01</td>\n",
       "      <td>0.00</td>\n",
       "      <td>0.01</td>\n",
       "      <td>0.00</td>\n",
       "      <td>0.11</td>\n",
       "      <td>0.33</td>\n",
       "      <td>2034</td>\n",
       "    </tr>\n",
       "  </tbody>\n",
       "</table>\n",
       "</div>"
      ],
      "text/plain": [
       "                                              tweets  label  \\\n",
       "0  [{'tweet_content': '请多多注意防护预防感染常戴口罩', 'posting...      0   \n",
       "1  [{'tweet_content': '你敢不敢让我中个小恐龙', 'posting_tim...      0   \n",
       "2  [{'tweet_content': '滴 613打卡成功 天气好的一天 看见小泽自拍 心情...      0   \n",
       "3  [{'tweet_content': '有没有人跟我一样的卡了我2天52个精英令用都用不鸟这...      0   \n",
       "4  [{'tweet_content': '婚姻不分年龄希望决定结婚之前能够想清楚对方是你想要相...      0   \n",
       "\n",
       "                                         tweets_flat  \\\n",
       "0  请多多注意防护预防感染常戴口罩 走在乡间的小路上乡村风景美如画 空运的螃蟹到了快来领取啊 何...   \n",
       "1  你敢不敢让我中个小恐龙 周年庆邀你盛装出席 5月1日5月8日参与周年庆活动分享你的周年庆时装...   \n",
       "2  滴 613打卡成功 天气好的一天 看见小泽自拍 心情更加好 以后多发呗 早上好呀天泽 天气好...   \n",
       "3  有没有人跟我一样的卡了我2天52个精英令用都用不鸟这波过去不卸载我是 我在打卡啦每日签到领红...   \n",
       "4  婚姻不分年龄希望决定结婚之前能够想清楚对方是你想要相伴一生的人而且不管前路好坏面对诱惑时你还...   \n",
       "\n",
       "                                      tweets_chinese  \\\n",
       "0  请多多注意防护预防感染常戴口罩 走在乡间的小路上乡村风景美如画 空运的螃蟹到了快来领取啊 何...   \n",
       "1  你敢不敢让我中个小恐龙 周年庆邀你盛装出席  月 日 月 日参与周年庆活动分享你的周年庆时装...   \n",
       "2  滴    打卡成功 天气好的一天 看见小泽自拍 心情更加好 以后多发呗 早上好呀天泽 天气好...   \n",
       "3  有没有人跟我一样的卡了我 天  个精英令用都用不鸟这波过去不卸载我是 我在打卡啦每日签到领红...   \n",
       "4  婚姻不分年龄希望决定结婚之前能够想清楚对方是你想要相伴一生的人而且不管前路好坏面对诱惑时你还...   \n",
       "\n",
       "                                          tweets_cut  \\\n",
       "0  请 多多 注意 防护 预防 感染 常 戴口罩   走 在 乡间 的 小路 上 乡村 风景 美...   \n",
       "1  你 敢不敢 让 我 中 个 小 恐龙   周年庆 邀 你 盛装 出席   月 日 月 日 参...   \n",
       "2  滴     打卡 成功   天气 好 的 一天   看见 小泽 自拍   心情 更加 好  ...   \n",
       "3  有没有 人 跟 我 一样 的 卡 了 我  天   个 精英令 用 都 用 不 鸟 这 波 ...   \n",
       "4  婚姻 不分 年龄 希望 决定 结婚之前 能够 想清楚 对方 是 你 想要 相伴 一生 的 人...   \n",
       "\n",
       "                                        tweets_clean    n    f    s    t   nr  \\\n",
       "0  多多 注意 防护 预防 感染 常 戴口罩   走 乡间 小路 乡村 风景 美如画 空运 螃蟹... 0.20 0.02 0.01 0.01 0.02   \n",
       "1  敢不敢 恐龙   周年庆 邀 盛装 出席   参与 周年庆 活动 分享 周年庆 时装 穿 搭... 0.19 0.01 0.00 0.00 0.03   \n",
       "2  滴     打卡 成功   天气 一天   看见 小泽 自拍   心情 更加  以后 多发 ... 0.21 0.03 0.00 0.00 0.04   \n",
       "3  有没有 卡  天   精英令 鸟 波 过去 卸载   打卡 每日 签到 领 红包 签到 越多... 0.21 0.00 0.01 0.00 0.02   \n",
       "4  婚姻 不分 年龄 希望 决定 结婚之前 能够 想清楚 想要 相伴 一生 前路 好坏 面对 诱... 0.17 0.01 0.00 0.01 0.01   \n",
       "\n",
       "    ns   nt   nw   nz    v   vd   vn    a   ad   an    d    m    q    r    p  \\\n",
       "0 0.00 0.00 0.00 0.02 0.27 0.00 0.02 0.06 0.00 0.00 0.07 0.03 0.00 0.10 0.04   \n",
       "1 0.00 0.00 0.00 0.01 0.33 0.00 0.01 0.06 0.01 0.00 0.10 0.02 0.01 0.11 0.03   \n",
       "2 0.00 0.00 0.00 0.00 0.30 0.00 0.00 0.10 0.01 0.00 0.06 0.01 0.00 0.03 0.01   \n",
       "3 0.00 0.00 0.00 0.01 0.32 0.00 0.02 0.06 0.01 0.01 0.08 0.02 0.01 0.10 0.04   \n",
       "4 0.00 0.00 0.00 0.00 0.31 0.00 0.02 0.06 0.01 0.01 0.11 0.02 0.00 0.11 0.03   \n",
       "\n",
       "     c    u   xc    w  PER  LOC  ORG  TIME    O  n_pos  n_neg  word_count  \n",
       "0 0.03 0.12 0.01 0.00 0.01 0.04 0.00  0.00 0.00   0.11   0.38        2878  \n",
       "1 0.02 0.09 0.04 0.00 0.00 0.00 0.00  0.02 0.00   0.08   0.36        1957  \n",
       "2 0.01 0.08 0.07 0.00 0.03 0.00 0.00  0.07 0.00   0.14   0.32         384  \n",
       "3 0.01 0.10 0.04 0.00 0.01 0.00 0.00  0.01 0.00   0.11   0.35        1402  \n",
       "4 0.03 0.09 0.01 0.00 0.01 0.01 0.00  0.01 0.00   0.11   0.33        2034  "
      ]
     },
     "execution_count": 4,
     "metadata": {},
     "output_type": "execute_result"
    }
   ],
   "source": [
    "train.head()"
   ]
  },
  {
   "cell_type": "code",
   "execution_count": 6,
   "metadata": {},
   "outputs": [],
   "source": [
    "words = []\n",
    "for i in train['tweets_clean']:\n",
    "    words.append(str(i).split())"
   ]
  },
  {
   "cell_type": "code",
   "execution_count": 8,
   "metadata": {},
   "outputs": [],
   "source": [
    "maxLen=1000\n",
    "num_features=100\n",
    "min_word_count=2\n",
    "\n",
    "model=Word2Vec(words,vector_size=num_features,min_count=min_word_count)"
   ]
  },
  {
   "cell_type": "code",
   "execution_count": 43,
   "metadata": {},
   "outputs": [],
   "source": [
    "model.save('./wordvec100')"
   ]
  },
  {
   "cell_type": "code",
   "execution_count": 44,
   "metadata": {},
   "outputs": [],
   "source": [
    "word2vec_model = Word2Vec.load('./wordvec100')"
   ]
  },
  {
   "cell_type": "code",
   "execution_count": 9,
   "metadata": {},
   "outputs": [],
   "source": [
    "y = train.label"
   ]
  },
  {
   "cell_type": "code",
   "execution_count": 10,
   "metadata": {},
   "outputs": [],
   "source": [
    "dataset=[]\n",
    "for i in train['tweets_clean']:\n",
    "    dataset.append(str(i))"
   ]
  },
  {
   "cell_type": "code",
   "execution_count": 11,
   "metadata": {},
   "outputs": [],
   "source": [
    "from keras.preprocessing.text import Tokenizer\n",
    "from keras.preprocessing.sequence import pad_sequences\n",
    "\n",
    "tokenizer=Tokenizer(filters='')  \n",
    "tokenizer.fit_on_texts(dataset)\n",
    "vocab=tokenizer.word_index "
   ]
  },
  {
   "cell_type": "code",
   "execution_count": 12,
   "metadata": {},
   "outputs": [],
   "source": [
    "x_train, x_val, y_train, y_val = train_test_split(dataset, y, test_size=0.2, random_state=1,shuffle=True)"
   ]
  },
  {
   "cell_type": "code",
   "execution_count": 13,
   "metadata": {},
   "outputs": [],
   "source": [
    "x_train_word_ids=tokenizer.texts_to_sequences(x_train)\n",
    "x_val_word_ids = tokenizer.texts_to_sequences(x_val)\n",
    "x_train_padded_seqs=pad_sequences(x_train_word_ids,maxlen=200) #将超过固定值的部分截掉，不足的在最前面用0填充\n",
    "x_val_padded_seqs=pad_sequences(x_val_word_ids,maxlen=200)"
   ]
  },
  {
   "cell_type": "code",
   "execution_count": 14,
   "metadata": {},
   "outputs": [
    {
     "name": "stdout",
     "output_type": "stream",
     "text": [
      "To_Categorical\n",
      "[0. 1.]\n",
      "[1. 0.]\n"
     ]
    }
   ],
   "source": [
    "from sklearn.preprocessing import LabelEncoder\n",
    "from keras.utils import to_categorical\n",
    "\n",
    "label_train = y_train.tolist()\n",
    "label_val = y_val.tolist()\n",
    "y_train = to_categorical(label_train)\n",
    "y_val = to_categorical(label_val)\n",
    "print(\"To_Categorical\")\n",
    "print(y_train[0])\n",
    "print(y_val[0])"
   ]
  },
  {
   "cell_type": "code",
   "execution_count": 17,
   "metadata": {},
   "outputs": [
    {
     "name": "stdout",
     "output_type": "stream",
     "text": [
      "(16858, 200)\n",
      "(4215, 200)\n",
      "(16858, 2)\n",
      "(4215, 2)\n"
     ]
    }
   ],
   "source": [
    "print( x_train_padded_seqs.shape )\n",
    "print(x_val_padded_seqs.shape )\n",
    "print( y_train.shape )\n",
    "print( y_val.shape )"
   ]
  },
  {
   "cell_type": "markdown",
   "metadata": {},
   "source": [
    "## CNN"
   ]
  },
  {
   "cell_type": "code",
   "execution_count": 18,
   "metadata": {},
   "outputs": [],
   "source": [
    "from keras.layers import Embedding, Conv1D, MaxPool1D, Flatten, Dense, Dropout\n",
    "from keras.models import Sequential\n",
    "from keras.optimizers import Adam\n",
    "from keras.utils import plot_model\n",
    "from keras.losses import categorical_crossentropy"
   ]
  },
  {
   "cell_type": "code",
   "execution_count": 19,
   "metadata": {},
   "outputs": [],
   "source": [
    "embedding_matrix = np.zeros((len(vocab)+1, 100))\n",
    "for word, i in vocab.items():\n",
    "    try:\n",
    "        embedding_vector = model.wv[str(word)]\n",
    "        embedding_matrix[i] = embedding_vector\n",
    "    except KeyError:\n",
    "        continue"
   ]
  },
  {
   "cell_type": "code",
   "execution_count": 20,
   "metadata": {},
   "outputs": [],
   "source": [
    "from keras.layers import Embedding, Conv1D, MaxPooling1D, Flatten, BatchNormalization\n",
    "from keras.layers import Input\n",
    "from keras.layers.merge import concatenate\n",
    "from keras.models import Model\n",
    "from keras import regularizers\n",
    "\n",
    "def build_cnn_model():\n",
    "    \n",
    "    main_input = Input(shape=(200,), dtype='float64')\n",
    "        # 词嵌入（使用预训练的词向量）\n",
    "    embedder = Embedding(len(vocab) + 1,100, input_length=200, weights=[embedding_matrix], trainable=False)#使用Embeeding层将每个词编码转换为词向量\n",
    "    embed = embedder(main_input)\n",
    "    \n",
    "    cnn1 = Conv1D(256, 3, padding='same', strides=1, activation='relu')(embed)\n",
    "    cnn1 = MaxPooling1D(pool_size=198)(cnn1)\n",
    "    cnn2 = Conv1D(256, 4, padding='same', strides=1, activation='relu')(embed)\n",
    "    cnn2 = MaxPooling1D(pool_size=197)(cnn2)\n",
    "    cnn3 = Conv1D(256, 5, padding='same', strides=1, activation='relu')(embed)\n",
    "    cnn3 = MaxPooling1D(pool_size=196)(cnn3)\n",
    "    # 合并三个模型的输出向量\n",
    "    cnn = concatenate([cnn1, cnn2, cnn3], axis=-1)\n",
    "    \n",
    "    flat = Flatten()(cnn)\n",
    "    \n",
    "    #bn = BatchNormalization()(flat)\n",
    "    \n",
    "    #merged = Dense(64, activation='relu')(bn)\n",
    "    \n",
    "    drop = Dropout(0.5)(flat)\n",
    "    \n",
    "    main_output = Dense(2, activation='sigmoid')(drop)\n",
    "    model = Model(inputs=main_input, outputs=main_output)\n",
    "    \n",
    "    #optimizer = Adam(lr=0.01)\n",
    "    #optimizer = SGD(lr=learning_rate2, momentum=momentum, decay=decay_rate, nesterov=False)\n",
    "\n",
    "    model.compile(loss='binary_crossentropy', optimizer='adam',metrics=['accuracy'])\n",
    "    return model"
   ]
  },
  {
   "cell_type": "code",
   "execution_count": 21,
   "metadata": {},
   "outputs": [
    {
     "name": "stdout",
     "output_type": "stream",
     "text": [
      "Model: \"functional_1\"\n",
      "__________________________________________________________________________________________________\n",
      "Layer (type)                    Output Shape         Param #     Connected to                     \n",
      "==================================================================================================\n",
      "input_1 (InputLayer)            [(None, 200)]        0                                            \n",
      "__________________________________________________________________________________________________\n",
      "embedding (Embedding)           (None, 200, 100)     77913400    input_1[0][0]                    \n",
      "__________________________________________________________________________________________________\n",
      "conv1d (Conv1D)                 (None, 200, 256)     77056       embedding[0][0]                  \n",
      "__________________________________________________________________________________________________\n",
      "conv1d_1 (Conv1D)               (None, 200, 256)     102656      embedding[0][0]                  \n",
      "__________________________________________________________________________________________________\n",
      "conv1d_2 (Conv1D)               (None, 200, 256)     128256      embedding[0][0]                  \n",
      "__________________________________________________________________________________________________\n",
      "max_pooling1d (MaxPooling1D)    (None, 1, 256)       0           conv1d[0][0]                     \n",
      "__________________________________________________________________________________________________\n",
      "max_pooling1d_1 (MaxPooling1D)  (None, 1, 256)       0           conv1d_1[0][0]                   \n",
      "__________________________________________________________________________________________________\n",
      "max_pooling1d_2 (MaxPooling1D)  (None, 1, 256)       0           conv1d_2[0][0]                   \n",
      "__________________________________________________________________________________________________\n",
      "concatenate (Concatenate)       (None, 1, 768)       0           max_pooling1d[0][0]              \n",
      "                                                                 max_pooling1d_1[0][0]            \n",
      "                                                                 max_pooling1d_2[0][0]            \n",
      "__________________________________________________________________________________________________\n",
      "flatten (Flatten)               (None, 768)          0           concatenate[0][0]                \n",
      "__________________________________________________________________________________________________\n",
      "dropout (Dropout)               (None, 768)          0           flatten[0][0]                    \n",
      "__________________________________________________________________________________________________\n",
      "dense (Dense)                   (None, 2)            1538        dropout[0][0]                    \n",
      "==================================================================================================\n",
      "Total params: 78,222,906\n",
      "Trainable params: 309,506\n",
      "Non-trainable params: 77,913,400\n",
      "__________________________________________________________________________________________________\n"
     ]
    }
   ],
   "source": [
    "cnn_model = build_cnn_model()\n",
    "cnn_model.summary()"
   ]
  },
  {
   "cell_type": "code",
   "execution_count": 22,
   "metadata": {},
   "outputs": [
    {
     "name": "stdout",
     "output_type": "stream",
     "text": [
      "Epoch 1/10\n",
      "106/106 [==============================] - 72s 683ms/step - loss: 0.6989 - accuracy: 0.8444 - val_loss: 0.2838 - val_accuracy: 0.9098\n",
      "Epoch 2/10\n",
      "106/106 [==============================] - 65s 617ms/step - loss: 0.3675 - accuracy: 0.8983 - val_loss: 0.2499 - val_accuracy: 0.9107\n",
      "Epoch 3/10\n",
      "106/106 [==============================] - 64s 606ms/step - loss: 0.2823 - accuracy: 0.9129 - val_loss: 0.2355 - val_accuracy: 0.9110\n",
      "Epoch 4/10\n",
      "106/106 [==============================] - 67s 628ms/step - loss: 0.2235 - accuracy: 0.9249 - val_loss: 0.2279 - val_accuracy: 0.9143\n",
      "Epoch 5/10\n",
      "106/106 [==============================] - 68s 641ms/step - loss: 0.1843 - accuracy: 0.9344 - val_loss: 0.2252 - val_accuracy: 0.9170\n",
      "Epoch 6/10\n",
      "106/106 [==============================] - 69s 650ms/step - loss: 0.1619 - accuracy: 0.9416 - val_loss: 0.2218 - val_accuracy: 0.9176\n",
      "Epoch 7/10\n",
      "106/106 [==============================] - 72s 684ms/step - loss: 0.1404 - accuracy: 0.9485 - val_loss: 0.2379 - val_accuracy: 0.9146\n",
      "Epoch 8/10\n",
      "106/106 [==============================] - 71s 666ms/step - loss: 0.1251 - accuracy: 0.9556 - val_loss: 0.2302 - val_accuracy: 0.9146\n",
      "Epoch 9/10\n",
      "106/106 [==============================] - 70s 661ms/step - loss: 0.1027 - accuracy: 0.9629 - val_loss: 0.2271 - val_accuracy: 0.9152\n",
      "Epoch 10/10\n",
      "106/106 [==============================] - 71s 666ms/step - loss: 0.0868 - accuracy: 0.9701 - val_loss: 0.2343 - val_accuracy: 0.9152\n"
     ]
    }
   ],
   "source": [
    "cnn_history = cnn_model.fit(x_train_padded_seqs,y_train,epochs=10,batch_size=128,shuffle=True,validation_split=0.2)"
   ]
  },
  {
   "cell_type": "code",
   "execution_count": 23,
   "metadata": {},
   "outputs": [
    {
     "data": {
      "image/png": "[encoded data removed]",
      "text/plain": [
       "<Figure size 720x432 with 1 Axes>"
      ]
     },
     "metadata": {
      "needs_background": "light"
     },
     "output_type": "display_data"
    }
   ],
   "source": [
    "# Visualize the loss\n",
    "fig, ax = plt.subplots(1, 1, figsize=(10,6))\n",
    "ax.plot(np.sqrt(cnn_history.history['loss']), 'r', label='train')\n",
    "ax.plot(np.sqrt(cnn_history.history['val_loss']), 'b' ,label='val')\n",
    "ax.set_xlabel(r'Epoch', fontsize=20)\n",
    "ax.set_ylabel(r'Loss', fontsize=20)\n",
    "ax.legend()\n",
    "ax.tick_params(labelsize=20)"
   ]
  },
  {
   "cell_type": "code",
   "execution_count": 24,
   "metadata": {},
   "outputs": [],
   "source": [
    "prob_val = cnn_model.predict(x_val_padded_seqs)\n",
    "pred_val = prob_val.argmax(axis=-1)"
   ]
  },
  {
   "cell_type": "code",
   "execution_count": 25,
   "metadata": {},
   "outputs": [
    {
     "name": "stdout",
     "output_type": "stream",
     "text": [
      "              precision    recall  f1-score   support\n",
      "\n",
      "           0       0.89      0.96      0.93      2218\n",
      "           1       0.96      0.87      0.91      1997\n",
      "\n",
      "    accuracy                           0.92      4215\n",
      "   macro avg       0.92      0.92      0.92      4215\n",
      "weighted avg       0.92      0.92      0.92      4215\n",
      "\n"
     ]
    }
   ],
   "source": [
    "from sklearn.metrics import classification_report\n",
    "print(classification_report(y_val.argmax(axis=-1), pred_val))"
   ]
  },
  {
   "cell_type": "code",
   "execution_count": null,
   "metadata": {},
   "outputs": [],
   "source": []
  }
 ],
 "metadata": {
  "kernelspec": {
   "display_name": "Python 3",
   "language": "python",
   "name": "python3"
  },
  "language_info": {
   "codemirror_mode": {
    "name": "ipython",
    "version": 3
   },
   "file_extension": ".py",
   "mimetype": "text/x-python",
   "name": "python",
   "nbconvert_exporter": "python",
   "pygments_lexer": "ipython3",
   "version": "3.8.5"
  }
 },
 "nbformat": 4,
 "nbformat_minor": 4
}
